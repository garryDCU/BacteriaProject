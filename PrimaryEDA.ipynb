{
 "cells": [
  {
   "cell_type": "markdown",
   "id": "728636c0",
   "metadata": {},
   "source": [
    "# Primary EDA"
   ]
  },
  {
   "cell_type": "code",
   "execution_count": 1,
   "id": "5b1573e4",
   "metadata": {},
   "outputs": [],
   "source": [
    "import pandas as pd "
   ]
  },
  {
   "cell_type": "code",
   "execution_count": 2,
   "id": "5a3f2ada",
   "metadata": {},
   "outputs": [],
   "source": [
    "def null_information(df):\n",
    "    \"\"\"\n",
    "    INPUT: one pandas df \n",
    "    OUTPUT: total number of null values \n",
    "    \"\"\"\n",
    "    null_count=df.isnull().sum().sum()\n",
    "    df_size=df.size\n",
    "    prop=(null_count*100)/df_size\n",
    "    return('There are {} nulls in the df which is {:.2f}% of the total df.'.format(null_count,prop))\n",
    "\n",
    "def unique_values_in_target_column(df):\n",
    "    \"\"\"\n",
    "    INPUT: pandas df\n",
    "    OUTPUT: list of unique values in the target column \n",
    "    \"\"\"\n",
    "    uniq_list=[]\n",
    "    target_list=df['target'].to_list()\n",
    "    for val in target_list:\n",
    "        if val not in uniq_list:\n",
    "            uniq_list.append(val)\n",
    "    return (uniq_list)"
   ]
  },
  {
   "cell_type": "markdown",
   "id": "d38228c0",
   "metadata": {},
   "source": [
    "# Bacteria Strain Table"
   ]
  },
  {
   "cell_type": "code",
   "execution_count": 5,
   "id": "f2b2dcc1",
   "metadata": {},
   "outputs": [],
   "source": [
    "strain_df=pd.read_csv('../BacteriaProject/bacteria.csv')\n",
    "strain_df.rename({'Strain': 'target'}, axis=1, inplace=True)"
   ]
  },
  {
   "cell_type": "code",
   "execution_count": 6,
   "id": "1d1636a2",
   "metadata": {},
   "outputs": [
    {
     "name": "stdout",
     "output_type": "stream",
     "text": [
      "BACTERIA STRAIN DATAFRAME INFORMATION\n",
      "-------------------------------------\n",
      "\n",
      "There are 2699 nulls in the df which is 47.25% of the total df.\n",
      "There are 6 unique values in the target column.\n",
      "These are:\n",
      "- SA_A\n",
      "- SA_B\n",
      "- PA_A\n",
      "- PA_B\n",
      "- EC_A\n",
      "- EC_B\n",
      "\n",
      "\n"
     ]
    }
   ],
   "source": [
    "print('BACTERIA STRAIN DATAFRAME INFORMATION')\n",
    "print('-------------------------------------\\n')\n",
    "print(null_information(strain_df))\n",
    "print('There are {} unique values in the target column.'.format(len(unique_values_in_target_column(strain_df))))\n",
    "print('These are:')\n",
    "for val in unique_values_in_target_column(strain_df):\n",
    "    print('- '+val)\n",
    "print('\\n')"
   ]
  }
 ],
 "metadata": {
  "kernelspec": {
   "display_name": "Python 3",
   "language": "python",
   "name": "python3"
  },
  "language_info": {
   "codemirror_mode": {
    "name": "ipython",
    "version": 3
   },
   "file_extension": ".py",
   "mimetype": "text/x-python",
   "name": "python",
   "nbconvert_exporter": "python",
   "pygments_lexer": "ipython3",
   "version": "3.8.8"
  }
 },
 "nbformat": 4,
 "nbformat_minor": 5
}
